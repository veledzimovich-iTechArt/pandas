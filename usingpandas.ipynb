{
 "cells": [
  {
   "cell_type": "code",
   "execution_count": 736,
   "metadata": {},
   "outputs": [
    {
     "name": "stdout",
     "output_type": "stream",
     "text": [
      "(91741, 15)\n"
     ]
    },
    {
     "data": {
      "text/plain": [
       "stop_date              object\n",
       "stop_time              object\n",
       "county_name           float64\n",
       "driver_gender          object\n",
       "driver_age_raw        float64\n",
       "driver_age            float64\n",
       "driver_race            object\n",
       "violation_raw          object\n",
       "violation              object\n",
       "search_conducted         bool\n",
       "search_type            object\n",
       "stop_outcome           object\n",
       "is_arrested            object\n",
       "stop_duration          object\n",
       "drugs_related_stop       bool\n",
       "dtype: object"
      ]
     },
     "execution_count": 736,
     "metadata": {},
     "output_type": "execute_result"
    }
   ],
   "source": [
    "import pandas as pd\n",
    "import matplotlib.pyplot as plt\n",
    "%matplotlib inline\n",
    "\n",
    "ri = pd.read_csv('police.csv')\n",
    "# (rows, columns)\n",
    "print(ri.shape)\n",
    "ri.dtypes"
   ]
  },
  {
   "cell_type": "code",
   "execution_count": 737,
   "metadata": {},
   "outputs": [
    {
     "data": {
      "text/html": [
       "<div>\n",
       "<style scoped>\n",
       "    .dataframe tbody tr th:only-of-type {\n",
       "        vertical-align: middle;\n",
       "    }\n",
       "\n",
       "    .dataframe tbody tr th {\n",
       "        vertical-align: top;\n",
       "    }\n",
       "\n",
       "    .dataframe thead th {\n",
       "        text-align: right;\n",
       "    }\n",
       "</style>\n",
       "<table border=\"1\" class=\"dataframe\">\n",
       "  <thead>\n",
       "    <tr style=\"text-align: right;\">\n",
       "      <th></th>\n",
       "      <th>stop_date</th>\n",
       "      <th>stop_time</th>\n",
       "      <th>county_name</th>\n",
       "      <th>driver_gender</th>\n",
       "      <th>driver_age_raw</th>\n",
       "      <th>driver_age</th>\n",
       "      <th>driver_race</th>\n",
       "      <th>violation_raw</th>\n",
       "      <th>violation</th>\n",
       "      <th>search_conducted</th>\n",
       "      <th>search_type</th>\n",
       "      <th>stop_outcome</th>\n",
       "      <th>is_arrested</th>\n",
       "      <th>stop_duration</th>\n",
       "      <th>drugs_related_stop</th>\n",
       "    </tr>\n",
       "  </thead>\n",
       "  <tbody>\n",
       "    <tr>\n",
       "      <th>0</th>\n",
       "      <td>2005-01-02</td>\n",
       "      <td>01:55</td>\n",
       "      <td>NaN</td>\n",
       "      <td>M</td>\n",
       "      <td>1985.0</td>\n",
       "      <td>20.0</td>\n",
       "      <td>White</td>\n",
       "      <td>Speeding</td>\n",
       "      <td>Speeding</td>\n",
       "      <td>False</td>\n",
       "      <td>NaN</td>\n",
       "      <td>Citation</td>\n",
       "      <td>False</td>\n",
       "      <td>0-15 Min</td>\n",
       "      <td>False</td>\n",
       "    </tr>\n",
       "    <tr>\n",
       "      <th>1</th>\n",
       "      <td>2005-01-18</td>\n",
       "      <td>08:15</td>\n",
       "      <td>NaN</td>\n",
       "      <td>M</td>\n",
       "      <td>1965.0</td>\n",
       "      <td>40.0</td>\n",
       "      <td>White</td>\n",
       "      <td>Speeding</td>\n",
       "      <td>Speeding</td>\n",
       "      <td>False</td>\n",
       "      <td>NaN</td>\n",
       "      <td>Citation</td>\n",
       "      <td>False</td>\n",
       "      <td>0-15 Min</td>\n",
       "      <td>False</td>\n",
       "    </tr>\n",
       "    <tr>\n",
       "      <th>2</th>\n",
       "      <td>2005-01-23</td>\n",
       "      <td>23:15</td>\n",
       "      <td>NaN</td>\n",
       "      <td>M</td>\n",
       "      <td>1972.0</td>\n",
       "      <td>33.0</td>\n",
       "      <td>White</td>\n",
       "      <td>Speeding</td>\n",
       "      <td>Speeding</td>\n",
       "      <td>False</td>\n",
       "      <td>NaN</td>\n",
       "      <td>Citation</td>\n",
       "      <td>False</td>\n",
       "      <td>0-15 Min</td>\n",
       "      <td>False</td>\n",
       "    </tr>\n",
       "    <tr>\n",
       "      <th>3</th>\n",
       "      <td>2005-02-20</td>\n",
       "      <td>17:15</td>\n",
       "      <td>NaN</td>\n",
       "      <td>M</td>\n",
       "      <td>1986.0</td>\n",
       "      <td>19.0</td>\n",
       "      <td>White</td>\n",
       "      <td>Call for Service</td>\n",
       "      <td>Other</td>\n",
       "      <td>False</td>\n",
       "      <td>NaN</td>\n",
       "      <td>Arrest Driver</td>\n",
       "      <td>True</td>\n",
       "      <td>16-30 Min</td>\n",
       "      <td>False</td>\n",
       "    </tr>\n",
       "    <tr>\n",
       "      <th>4</th>\n",
       "      <td>2005-03-14</td>\n",
       "      <td>10:00</td>\n",
       "      <td>NaN</td>\n",
       "      <td>F</td>\n",
       "      <td>1984.0</td>\n",
       "      <td>21.0</td>\n",
       "      <td>White</td>\n",
       "      <td>Speeding</td>\n",
       "      <td>Speeding</td>\n",
       "      <td>False</td>\n",
       "      <td>NaN</td>\n",
       "      <td>Citation</td>\n",
       "      <td>False</td>\n",
       "      <td>0-15 Min</td>\n",
       "      <td>False</td>\n",
       "    </tr>\n",
       "  </tbody>\n",
       "</table>\n",
       "</div>"
      ],
      "text/plain": [
       "    stop_date stop_time  county_name driver_gender  driver_age_raw  \\\n",
       "0  2005-01-02     01:55          NaN             M          1985.0   \n",
       "1  2005-01-18     08:15          NaN             M          1965.0   \n",
       "2  2005-01-23     23:15          NaN             M          1972.0   \n",
       "3  2005-02-20     17:15          NaN             M          1986.0   \n",
       "4  2005-03-14     10:00          NaN             F          1984.0   \n",
       "\n",
       "   driver_age driver_race     violation_raw violation  search_conducted  \\\n",
       "0        20.0       White          Speeding  Speeding             False   \n",
       "1        40.0       White          Speeding  Speeding             False   \n",
       "2        33.0       White          Speeding  Speeding             False   \n",
       "3        19.0       White  Call for Service     Other             False   \n",
       "4        21.0       White          Speeding  Speeding             False   \n",
       "\n",
       "  search_type   stop_outcome is_arrested stop_duration  drugs_related_stop  \n",
       "0         NaN       Citation       False      0-15 Min               False  \n",
       "1         NaN       Citation       False      0-15 Min               False  \n",
       "2         NaN       Citation       False      0-15 Min               False  \n",
       "3         NaN  Arrest Driver        True     16-30 Min               False  \n",
       "4         NaN       Citation       False      0-15 Min               False  "
      ]
     },
     "execution_count": 737,
     "metadata": {},
     "output_type": "execute_result"
    }
   ],
   "source": [
    "ri.head()"
   ]
  },
  {
   "cell_type": "code",
   "execution_count": 738,
   "metadata": {},
   "outputs": [
    {
     "data": {
      "text/plain": [
       "stop_date                 0\n",
       "stop_time                 0\n",
       "county_name           91741\n",
       "driver_gender          5335\n",
       "driver_age_raw         5327\n",
       "driver_age             5621\n",
       "driver_race            5333\n",
       "violation_raw          5333\n",
       "violation              5333\n",
       "search_conducted          0\n",
       "search_type           88545\n",
       "stop_outcome           5333\n",
       "is_arrested            5333\n",
       "stop_duration          5333\n",
       "drugs_related_stop        0\n",
       "dtype: int64"
      ]
     },
     "execution_count": 738,
     "metadata": {},
     "output_type": "execute_result"
    }
   ],
   "source": [
    "# sum null values in all null columns\n",
    "ri.isnull().sum()"
   ]
  },
  {
   "cell_type": "code",
   "execution_count": 739,
   "metadata": {},
   "outputs": [
    {
     "name": "stdout",
     "output_type": "stream",
     "text": [
      "(91741, 14)\n"
     ]
    },
    {
     "data": {
      "text/plain": [
       "Index(['stop_date', 'stop_time', 'driver_gender', 'driver_age_raw',\n",
       "       'driver_age', 'driver_race', 'violation_raw', 'violation',\n",
       "       'search_conducted', 'search_type', 'stop_outcome', 'is_arrested',\n",
       "       'stop_duration', 'drugs_related_stop'],\n",
       "      dtype='object')"
      ]
     },
     "execution_count": 739,
     "metadata": {},
     "output_type": "execute_result"
    }
   ],
   "source": [
    "# 1. Remove the column that only contains missing values.\n",
    "# inplace=False return copy\n",
    "no_miss = ri.drop('county_name', axis='columns', inplace=False)\n",
    "print(no_miss.shape)\n",
    "no_miss.columns"
   ]
  },
  {
   "cell_type": "code",
   "execution_count": 740,
   "metadata": {},
   "outputs": [
    {
     "name": "stdout",
     "output_type": "stream",
     "text": [
      "(91741, 14)\n"
     ]
    },
    {
     "data": {
      "text/plain": [
       "Index(['stop_date', 'stop_time', 'driver_gender', 'driver_age_raw',\n",
       "       'driver_age', 'driver_race', 'violation_raw', 'violation',\n",
       "       'search_conducted', 'search_type', 'stop_outcome', 'is_arrested',\n",
       "       'stop_duration', 'drugs_related_stop'],\n",
       "      dtype='object')"
      ]
     },
     "execution_count": 740,
     "metadata": {},
     "output_type": "execute_result"
    }
   ],
   "source": [
    "no_miss = ri.loc[:, (ri.isnull().sum() != ri.shape[0])]\n",
    "print(no_miss.shape)\n",
    "no_miss.columns"
   ]
  },
  {
   "cell_type": "code",
   "execution_count": 741,
   "metadata": {},
   "outputs": [
    {
     "name": "stdout",
     "output_type": "stream",
     "text": [
      "(91741, 14)\n"
     ]
    },
    {
     "data": {
      "text/plain": [
       "Index(['stop_date', 'stop_time', 'driver_gender', 'driver_age_raw',\n",
       "       'driver_age', 'driver_race', 'violation_raw', 'violation',\n",
       "       'search_conducted', 'search_type', 'stop_outcome', 'is_arrested',\n",
       "       'stop_duration', 'drugs_related_stop'],\n",
       "      dtype='object')"
      ]
     },
     "execution_count": 741,
     "metadata": {},
     "output_type": "execute_result"
    }
   ],
   "source": [
    "no_miss = ri.dropna(axis='columns', how='all')\n",
    "print(no_miss.shape)\n",
    "no_miss.columns"
   ]
  },
  {
   "cell_type": "code",
   "execution_count": 742,
   "metadata": {},
   "outputs": [
    {
     "data": {
      "text/plain": [
       "(0.6804985246476694, 0.3194602067556693)"
      ]
     },
     "execution_count": 742,
     "metadata": {},
     "output_type": "execute_result"
    }
   ],
   "source": [
    "# 2. Do men or women speed more often?\n",
    "(\n",
    "    len(\n",
    "        ri[\n",
    "            (ri['driver_gender'] == 'M') \n",
    "            & (ri['violation'] == 'Speeding')\n",
    "        ]\n",
    "    ) / len(ri[ri['violation'] == 'Speeding']), \n",
    "    len(\n",
    "        ri[\n",
    "            (ri['driver_gender'] == 'F') \n",
    "            & (ri['violation'] == 'Speeding')\n",
    "        ]\n",
    "    ) / len(ri[ri['violation'] == 'Speeding'])\n",
    ")"
   ]
  },
  {
   "cell_type": "code",
   "execution_count": 743,
   "metadata": {},
   "outputs": [
    {
     "data": {
      "text/plain": [
       "M    0.680527\n",
       "F    0.319473\n",
       "Name: driver_gender, dtype: float64"
      ]
     },
     "execution_count": 743,
     "metadata": {},
     "output_type": "execute_result"
    }
   ],
   "source": [
    "\n",
    "ri[ri.violation == 'Speeding'].driver_gender.value_counts(normalize=True)"
   ]
  },
  {
   "cell_type": "code",
   "execution_count": 744,
   "metadata": {},
   "outputs": [
    {
     "data": {
      "text/plain": [
       "Speeding               0.524350\n",
       "Moving violation       0.207012\n",
       "Equipment              0.135671\n",
       "Other                  0.057668\n",
       "Registration/plates    0.038461\n",
       "Seat belt              0.036839\n",
       "Name: violation, dtype: float64"
      ]
     },
     "execution_count": 744,
     "metadata": {},
     "output_type": "execute_result"
    }
   ],
   "source": [
    "# male\n",
    "ri[ri.driver_gender == 'M'].violation.value_counts(normalize=True)\n"
   ]
  },
  {
   "cell_type": "code",
   "execution_count": 745,
   "metadata": {},
   "outputs": [
    {
     "data": {
      "text/plain": [
       "Speeding               0.658500\n",
       "Moving violation       0.136277\n",
       "Equipment              0.105780\n",
       "Registration/plates    0.043086\n",
       "Other                  0.029348\n",
       "Seat belt              0.027009\n",
       "Name: violation, dtype: float64"
      ]
     },
     "execution_count": 745,
     "metadata": {},
     "output_type": "execute_result"
    }
   ],
   "source": [
    "# female\n",
    "ri[ri.driver_gender == 'F'].violation.value_counts(normalize=True)"
   ]
  },
  {
   "cell_type": "code",
   "execution_count": 746,
   "metadata": {},
   "outputs": [
    {
     "data": {
      "text/plain": [
       "driver_gender  violation          \n",
       "F              Speeding               0.658500\n",
       "               Moving violation       0.136277\n",
       "               Equipment              0.105780\n",
       "               Registration/plates    0.043086\n",
       "               Other                  0.029348\n",
       "               Seat belt              0.027009\n",
       "M              Speeding               0.524350\n",
       "               Moving violation       0.207012\n",
       "               Equipment              0.135671\n",
       "               Other                  0.057668\n",
       "               Registration/plates    0.038461\n",
       "               Seat belt              0.036839\n",
       "Name: violation, dtype: float64"
      ]
     },
     "execution_count": 746,
     "metadata": {},
     "output_type": "execute_result"
    }
   ],
   "source": [
    "# male and female\n",
    "gr_gender = ri.groupby('driver_gender').violation.value_counts(normalize=True)\n",
    "gr_gender"
   ]
  },
  {
   "cell_type": "code",
   "execution_count": 747,
   "metadata": {},
   "outputs": [
    {
     "data": {
      "text/plain": [
       "driver_gender\n",
       "F    0.65850\n",
       "M    0.52435\n",
       "Name: violation, dtype: float64"
      ]
     },
     "execution_count": 747,
     "metadata": {},
     "output_type": "execute_result"
    }
   ],
   "source": [
    "# filter 'Speeding'\n",
    "gr_gender.loc[:, 'Speeding']\n"
   ]
  },
  {
   "cell_type": "code",
   "execution_count": 748,
   "metadata": {},
   "outputs": [
    {
     "data": {
      "text/plain": [
       "driver_gender\n",
       "F    0.65850\n",
       "M    0.52435\n",
       "Name: Speeding, dtype: float64"
      ]
     },
     "execution_count": 748,
     "metadata": {},
     "output_type": "execute_result"
    }
   ],
   "source": [
    "# stack\n",
    "gr_gender.unstack().Speeding"
   ]
  },
  {
   "cell_type": "code",
   "execution_count": 749,
   "metadata": {},
   "outputs": [
    {
     "data": {
      "text/plain": [
       "driver_gender  search_conducted\n",
       "F              False               0.979967\n",
       "               True                0.020033\n",
       "M              False               0.956674\n",
       "               True                0.043326\n",
       "Name: search_conducted, dtype: float64"
      ]
     },
     "execution_count": 749,
     "metadata": {},
     "output_type": "execute_result"
    }
   ],
   "source": [
    " # 3. Does gender affect who gets searched during a stop?\n",
    "ri.groupby('driver_gender').search_conducted.value_counts(normalize=True)"
   ]
  },
  {
   "cell_type": "code",
   "execution_count": 750,
   "metadata": {},
   "outputs": [
    {
     "data": {
      "text/plain": [
       "False    0.965163\n",
       "True     0.034837\n",
       "Name: search_conducted, dtype: float64"
      ]
     },
     "execution_count": 750,
     "metadata": {},
     "output_type": "execute_result"
    }
   ],
   "source": [
    "# 3% searched\n",
    "ri.search_conducted.value_counts(normalize=True)"
   ]
  },
  {
   "cell_type": "code",
   "execution_count": 751,
   "metadata": {},
   "outputs": [
    {
     "data": {
      "text/plain": [
       "0.03483720473942948"
      ]
     },
     "execution_count": 751,
     "metadata": {},
     "output_type": "execute_result"
    }
   ],
   "source": [
    "# mean\n",
    "ri.search_conducted.mean()"
   ]
  },
  {
   "cell_type": "code",
   "execution_count": 752,
   "metadata": {},
   "outputs": [
    {
     "data": {
      "text/plain": [
       "driver_gender\n",
       "F    0.020033\n",
       "M    0.043326\n",
       "Name: search_conducted, dtype: float64"
      ]
     },
     "execution_count": 752,
     "metadata": {},
     "output_type": "execute_result"
    }
   ],
   "source": [
    "# mean by gender\n",
    "ri.groupby('driver_gender').search_conducted.mean()"
   ]
  },
  {
   "cell_type": "code",
   "execution_count": 753,
   "metadata": {},
   "outputs": [
    {
     "data": {
      "text/plain": [
       "violation            driver_gender\n",
       "Equipment            F                0.042622\n",
       "                     M                0.070081\n",
       "Moving violation     F                0.036205\n",
       "                     M                0.059831\n",
       "Other                F                0.056522\n",
       "                     M                0.047146\n",
       "Registration/plates  F                0.066140\n",
       "                     M                0.110376\n",
       "Seat belt            F                0.012598\n",
       "                     M                0.037980\n",
       "Speeding             F                0.008720\n",
       "                     M                0.024925\n",
       "Name: search_conducted, dtype: float64"
      ]
     },
     "execution_count": 753,
     "metadata": {},
     "output_type": "execute_result"
    }
   ],
   "source": [
    "# search correlation violation and search_conducted\n",
    "ri.groupby(['violation', 'driver_gender']).search_conducted.mean()\n"
   ]
  },
  {
   "cell_type": "code",
   "execution_count": 754,
   "metadata": {},
   "outputs": [
    {
     "data": {
      "text/plain": [
       "NaN                                                         88545\n",
       "Incident to Arrest                                           1219\n",
       "Probable Cause                                                891\n",
       "Inventory                                                     220\n",
       "Reasonable Suspicion                                          197\n",
       "Protective Frisk                                              161\n",
       "Incident to Arrest,Inventory                                  129\n",
       "Incident to Arrest,Probable Cause                             106\n",
       "Probable Cause,Reasonable Suspicion                            75\n",
       "Incident to Arrest,Inventory,Probable Cause                    34\n",
       "Probable Cause,Protective Frisk                                33\n",
       "Incident to Arrest,Protective Frisk                            33\n",
       "Inventory,Probable Cause                                       22\n",
       "Incident to Arrest,Reasonable Suspicion                        13\n",
       "Incident to Arrest,Inventory,Protective Frisk                  11\n",
       "Protective Frisk,Reasonable Suspicion                          11\n",
       "Inventory,Protective Frisk                                     11\n",
       "Incident to Arrest,Probable Cause,Protective Frisk             10\n",
       "Incident to Arrest,Probable Cause,Reasonable Suspicion          6\n",
       "Incident to Arrest,Inventory,Reasonable Suspicion               4\n",
       "Inventory,Reasonable Suspicion                                  4\n",
       "Inventory,Probable Cause,Protective Frisk                       2\n",
       "Inventory,Probable Cause,Reasonable Suspicion                   2\n",
       "Incident to Arrest,Protective Frisk,Reasonable Suspicion        1\n",
       "Probable Cause,Protective Frisk,Reasonable Suspicion            1\n",
       "Name: search_type, dtype: int64"
      ]
     },
     "execution_count": 754,
     "metadata": {},
     "output_type": "execute_result"
    }
   ],
   "source": [
    "# 4. Why search_type missing so often?\n",
    "# dropna = True by default \n",
    "ri.search_type.value_counts(dropna=False)"
   ]
  },
  {
   "cell_type": "code",
   "execution_count": 755,
   "metadata": {},
   "outputs": [
    {
     "data": {
      "text/plain": [
       "NaN    88545\n",
       "Name: search_type, dtype: int64"
      ]
     },
     "execution_count": 755,
     "metadata": {},
     "output_type": "execute_result"
    }
   ],
   "source": [
    "ri[ri.search_conducted == False].search_type.value_counts(dropna=False)"
   ]
  },
  {
   "cell_type": "code",
   "execution_count": 756,
   "metadata": {},
   "outputs": [
    {
     "data": {
      "text/plain": [
       "False    88545\n",
       "True      3196\n",
       "Name: search_conducted, dtype: int64"
      ]
     },
     "execution_count": 756,
     "metadata": {},
     "output_type": "execute_result"
    }
   ],
   "source": [
    "ri.search_conducted.value_counts(dropna=False)"
   ]
  },
  {
   "cell_type": "code",
   "execution_count": 757,
   "metadata": {},
   "outputs": [
    {
     "data": {
      "text/plain": [
       "search_type                                               search_conducted\n",
       "NaN                                                       False               88545\n",
       "Incident to Arrest                                        True                 1219\n",
       "Probable Cause                                            True                  891\n",
       "Inventory                                                 True                  220\n",
       "Reasonable Suspicion                                      True                  197\n",
       "Protective Frisk                                          True                  161\n",
       "Incident to Arrest,Inventory                              True                  129\n",
       "Incident to Arrest,Probable Cause                         True                  106\n",
       "Probable Cause,Reasonable Suspicion                       True                   75\n",
       "Incident to Arrest,Inventory,Probable Cause               True                   34\n",
       "Incident to Arrest,Protective Frisk                       True                   33\n",
       "Probable Cause,Protective Frisk                           True                   33\n",
       "Inventory,Probable Cause                                  True                   22\n",
       "Incident to Arrest,Reasonable Suspicion                   True                   13\n",
       "Incident to Arrest,Inventory,Protective Frisk             True                   11\n",
       "Inventory,Protective Frisk                                True                   11\n",
       "Protective Frisk,Reasonable Suspicion                     True                   11\n",
       "Incident to Arrest,Probable Cause,Protective Frisk        True                   10\n",
       "Incident to Arrest,Probable Cause,Reasonable Suspicion    True                    6\n",
       "Inventory,Reasonable Suspicion                            True                    4\n",
       "Incident to Arrest,Inventory,Reasonable Suspicion         True                    4\n",
       "Inventory,Probable Cause,Reasonable Suspicion             True                    2\n",
       "Inventory,Probable Cause,Protective Frisk                 True                    2\n",
       "Incident to Arrest,Protective Frisk,Reasonable Suspicion  True                    1\n",
       "Probable Cause,Protective Frisk,Reasonable Suspicion      True                    1\n",
       "dtype: int64"
      ]
     },
     "execution_count": 757,
     "metadata": {},
     "output_type": "execute_result"
    }
   ],
   "source": [
    "# search_type = NaN and search_conducted = False\n",
    "ri.loc[:, ['search_type', 'search_conducted']].value_counts(dropna=False)"
   ]
  },
  {
   "cell_type": "code",
   "execution_count": 758,
   "metadata": {},
   "outputs": [
    {
     "name": "stdout",
     "output_type": "stream",
     "text": [
      "mean: 0.08573216520650813\n",
      "mean: 0.08573216520650813\n"
     ]
    },
    {
     "data": {
      "text/plain": [
       "NaN      88545\n",
       "False     2922\n",
       "True       274\n",
       "Name: frisk, dtype: int64"
      ]
     },
     "execution_count": 758,
     "metadata": {},
     "output_type": "execute_result"
    }
   ],
   "source": [
    "# 5. During search how often is the driver frisked?\n",
    "# Protective Frisk\n",
    "ri['frisk'] = ri.search_type.str.contains('Protective Frisk')\n",
    "\n",
    "print(f'mean: {ri.frisk.mean()}')\n",
    "# smell test\n",
    "print(f'mean: {ri.frisk.value_counts()[True] / ri.search_type.count()}')\n",
    "ri.frisk.value_counts(dropna=False)\n"
   ]
  },
  {
   "cell_type": "code",
   "execution_count": null,
   "metadata": {},
   "outputs": [],
   "source": []
  },
  {
   "cell_type": "code",
   "execution_count": 759,
   "metadata": {},
   "outputs": [
    {
     "name": "stdout",
     "output_type": "stream",
     "text": [
      "2012    10970\n",
      "2006    10639\n",
      "2007     9476\n",
      "2014     9228\n",
      "2008     8752\n",
      "2015     8599\n",
      "2011     8126\n",
      "2013     7924\n",
      "2009     7908\n",
      "2010     7561\n",
      "2005     2558\n",
      "Name: stop_date, dtype: int64\n",
      "2012    10970\n",
      "2006    10639\n",
      "2007     9476\n",
      "2014     9228\n",
      "2008     8752\n",
      "2015     8599\n",
      "2011     8126\n",
      "2013     7924\n",
      "2009     7908\n",
      "2010     7561\n",
      "2005     2558\n",
      "Name: stop_date, dtype: int64\n"
     ]
    }
   ],
   "source": [
    "# 6. Which year had the least number of stops?\n",
    "print(ri.stop_date.str.split('-').apply(lambda x: x[0]).value_counts())\n",
    "print(ri.stop_date.str.slice(0,4).value_counts())"
   ]
  },
  {
   "cell_type": "code",
   "execution_count": 760,
   "metadata": {},
   "outputs": [
    {
     "data": {
      "text/plain": [
       "2005"
      ]
     },
     "execution_count": 760,
     "metadata": {},
     "output_type": "execute_result"
    }
   ],
   "source": [
    "# combine columns\n",
    "combined = ri.stop_date.str.cat(ri.stop_time, sep=' ')\n",
    "ri['stop_datetime'] = pd.to_datetime(combined)\n",
    "# get from sorted stop_datetime\n",
    "ri.stop_datetime.dt.year.value_counts().sort_values().index[0]"
   ]
  },
  {
   "cell_type": "code",
   "execution_count": 761,
   "metadata": {},
   "outputs": [
    {
     "data": {
      "text/plain": [
       "hour  drugs_related_stop\n",
       "5     True                     1\n",
       "4     True                     3\n",
       "6     True                    10\n",
       "8     True                    14\n",
       "7     True                    15\n",
       "17    True                    16\n",
       "12    True                    16\n",
       "21    True                    20\n",
       "3     True                    20\n",
       "18    True                    22\n",
       "16    True                    22\n",
       "20    True                    27\n",
       "19    True                    30\n",
       "15    True                    31\n",
       "11    True                    41\n",
       "10    True                    42\n",
       "9     True                    43\n",
       "14    True                    44\n",
       "2     True                    46\n",
       "22    True                    47\n",
       "13    True                    50\n",
       "1     True                    60\n",
       "23    True                    92\n",
       "0     True                   103\n",
       "5     False                  209\n",
       "4     False                  251\n",
       "3     False                 1152\n",
       "21    False                 1479\n",
       "18    False                 2146\n",
       "19    False                 2557\n",
       "17    False                 2884\n",
       "2     False                 2929\n",
       "6     False                 3280\n",
       "20    False                 3313\n",
       "22    False                 3426\n",
       "12    False                 3566\n",
       "16    False                 3822\n",
       "1     False                 4382\n",
       "7     False                 4557\n",
       "13    False                 4792\n",
       "15    False                 4801\n",
       "0     False                 5118\n",
       "8     False                 5196\n",
       "23    False                 5537\n",
       "14    False                 5590\n",
       "11    False                 5836\n",
       "9     False                 6795\n",
       "10    False                 7308\n",
       "Name: drugs_related_stop, dtype: int64"
      ]
     },
     "execution_count": 761,
     "metadata": {},
     "output_type": "execute_result"
    }
   ],
   "source": [
    "# 7. How does drug activity change by time of day?\n",
    "ri['hour'] = ri.stop_datetime.dt.hour\n",
    "ri.groupby('hour').drugs_related_stop.value_counts().sort_values()"
   ]
  },
  {
   "cell_type": "code",
   "execution_count": 762,
   "metadata": {},
   "outputs": [
    {
     "data": {
      "text/plain": [
       "0.008883705213590434"
      ]
     },
     "execution_count": 762,
     "metadata": {},
     "output_type": "execute_result"
    }
   ],
   "source": [
    "# less 1%\n",
    "ri.drugs_related_stop.mean()"
   ]
  },
  {
   "cell_type": "code",
   "execution_count": 763,
   "metadata": {},
   "outputs": [
    {
     "data": {
      "text/plain": [
       "<Axes: xlabel='stop_datetime'>"
      ]
     },
     "execution_count": 763,
     "metadata": {},
     "output_type": "execute_result"
    },
    {
     "data": {
      "image/png": "[encoded data removed]",
      "text/plain": [
       "<Figure size 640x480 with 1 Axes>"
      ]
     },
     "metadata": {},
     "output_type": "display_data"
    }
   ],
   "source": [
    "ri.groupby(ri.stop_datetime.dt.hour).drugs_related_stop.mean().plot()"
   ]
  },
  {
   "cell_type": "code",
   "execution_count": 764,
   "metadata": {},
   "outputs": [
    {
     "data": {
      "text/plain": [
       "<Axes: >"
      ]
     },
     "execution_count": 764,
     "metadata": {},
     "output_type": "execute_result"
    },
    {
     "data": {
      "image/png": "[encoded data removed]",
      "text/plain": [
       "<Figure size 640x480 with 1 Axes>"
      ]
     },
     "metadata": {},
     "output_type": "display_data"
    }
   ],
   "source": [
    "# 8. Do most stops occur at night?\n",
    "ri.stop_datetime.dt.hour.value_counts().sort_index().plot()"
   ]
  },
  {
   "cell_type": "code",
   "execution_count": 765,
   "metadata": {},
   "outputs": [
    {
     "data": {
      "text/plain": [
       "stop_datetime\n",
       "False    64395\n",
       "True     27346\n",
       "Name: stop_datetime, dtype: int64"
      ]
     },
     "execution_count": 765,
     "metadata": {},
     "output_type": "execute_result"
    }
   ],
   "source": [
    "# inclusive\n",
    "ri.groupby(ri.stop_datetime.dt.hour.between(0, 8)).stop_datetime.count()\n"
   ]
  },
  {
   "cell_type": "code",
   "execution_count": 766,
   "metadata": {},
   "outputs": [
    {
     "data": {
      "text/plain": [
       "27346"
      ]
     },
     "execution_count": 766,
     "metadata": {},
     "output_type": "execute_result"
    }
   ],
   "source": [
    "ri[(ri.hour >= 0) & (ri.hour <= 8)].stop_datetime.count()\n"
   ]
  },
  {
   "cell_type": "code",
   "execution_count": 767,
   "metadata": {},
   "outputs": [
    {
     "data": {
      "text/plain": [
       "0-15 Min     69543\n",
       "16-30 Min    13635\n",
       "NaN           5333\n",
       "30+ Min       3228\n",
       "2                1\n",
       "1                1\n",
       "Name: stop_duration, dtype: int64"
      ]
     },
     "execution_count": 767,
     "metadata": {},
     "output_type": "execute_result"
    }
   ],
   "source": [
    "# 9. Find the bad data in the stop_duration column and fix it.\n",
    "ri.stop_duration.value_counts(dropna=False)"
   ]
  },
  {
   "cell_type": "code",
   "execution_count": 768,
   "metadata": {},
   "outputs": [],
   "source": [
    "# parethensis for each condition\n",
    "# ri[(ri.stop_duration == '1') | (ri.stop_duration == '2')].stop_duration = None\n",
    "# 'NaN' is not a string\n",
    "ri.loc[\n",
    "    (ri.stop_duration == '1') | (ri.stop_duration == '2'), \n",
    "    'stop_duration'\n",
    "] = 'NaN'"
   ]
  },
  {
   "cell_type": "code",
   "execution_count": 769,
   "metadata": {},
   "outputs": [
    {
     "data": {
      "text/plain": [
       "0-15 Min     69543\n",
       "16-30 Min    13635\n",
       "NaN           5333\n",
       "30+ Min       3228\n",
       "NaN              2\n",
       "Name: stop_duration, dtype: int64"
      ]
     },
     "execution_count": 769,
     "metadata": {},
     "output_type": "execute_result"
    }
   ],
   "source": [
    "ri.stop_duration.value_counts(dropna=False)"
   ]
  },
  {
   "cell_type": "code",
   "execution_count": 770,
   "metadata": {},
   "outputs": [],
   "source": [
    "import numpy as np\n",
    "ri.loc[ri.stop_duration == 'NaN', 'stop_duration'] = np.nan"
   ]
  },
  {
   "cell_type": "code",
   "execution_count": 771,
   "metadata": {},
   "outputs": [
    {
     "data": {
      "text/plain": [
       "0-15 Min     69543\n",
       "16-30 Min    13635\n",
       "NaN           5335\n",
       "30+ Min       3228\n",
       "Name: stop_duration, dtype: int64"
      ]
     },
     "execution_count": 771,
     "metadata": {},
     "output_type": "execute_result"
    }
   ],
   "source": [
    "ri.stop_duration.value_counts(dropna=False)"
   ]
  }
 ],
 "metadata": {
  "kernelspec": {
   "display_name": "venv-ds",
   "language": "python",
   "name": "python3"
  },
  "language_info": {
   "codemirror_mode": {
    "name": "ipython",
    "version": 3
   },
   "file_extension": ".py",
   "mimetype": "text/x-python",
   "name": "python",
   "nbconvert_exporter": "python",
   "pygments_lexer": "ipython3",
   "version": "3.10.9"
  },
  "orig_nbformat": 4,
  "vscode": {
   "interpreter": {
    "hash": "a66433496192c567de7e045b7fbee4c738c11153658a2f9b624370654f6f9fa2"
   }
  }
 },
 "nbformat": 4,
 "nbformat_minor": 2
}
